{
 "cells": [
  {
   "cell_type": "code",
   "execution_count": 1,
   "metadata": {},
   "outputs": [],
   "source": [
    "import pandas as pd\n"
   ]
  },
  {
   "cell_type": "code",
   "execution_count": 2,
   "metadata": {},
   "outputs": [],
   "source": [
    "chunksize = 100000  # Process 100,000 rows at a time\n",
    "chunks = []\n",
    "\n",
    "for chunk in pd.read_csv(\n",
    "    r\"C:\\Users\\user\\Desktop\\25 WI\\Combined_WWLLN_Locations.txt\", \n",
    "    delim_whitespace=True, \n",
    "    chunksize=chunksize\n",
    "):\n",
    "    chunks.append(chunk)\n",
    "\n",
    "locations_WWLLN = pd.concat(chunks, ignore_index=True)\n"
   ]
  },
  {
   "cell_type": "code",
   "execution_count": 3,
   "metadata": {},
   "outputs": [
    {
     "name": "stdout",
     "output_type": "stream",
     "text": [
      "(77437117, 12)\n"
     ]
    }
   ],
   "source": [
    "print(locations_WWLLN.shape)"
   ]
  },
  {
   "cell_type": "code",
   "execution_count": 4,
   "metadata": {},
   "outputs": [],
   "source": [
    "track_file = pd.read_csv(r\"C:\\Users\\user\\Desktop\\25 WI\\Combined_Reduced_Trackfile.txt\", sep=\"\\t\")"
   ]
  },
  {
   "cell_type": "code",
   "execution_count": 5,
   "metadata": {},
   "outputs": [],
   "source": [
    "# print(locations_WWLLN.head(5))\n",
    "# print(track_file.head(5))"
   ]
  },
  {
   "cell_type": "code",
   "execution_count": 6,
   "metadata": {},
   "outputs": [],
   "source": [
    "locations_WWLLN.columns = ['year', 'month', 'day', 'hour', 'min', 'sec','lat','lon','distance_from_storm_center_km_east', 'distance_from_storm_center_km_north', 'storm_code','storm_name']  # Replace with actual names\n",
    "track_file.columns = ['year', 'month', 'day','hour','lat','lon','pressure', 'knots', 'basin?', 'storm_code', 'storm_name']\n"
   ]
  },
  {
   "cell_type": "code",
   "execution_count": 7,
   "metadata": {},
   "outputs": [
    {
     "name": "stdout",
     "output_type": "stream",
     "text": [
      "(77437117, 12)\n"
     ]
    }
   ],
   "source": [
    "track_file.shape\n",
    "print(locations_WWLLN.shape)\n"
   ]
  },
  {
   "cell_type": "code",
   "execution_count": 8,
   "metadata": {},
   "outputs": [
    {
     "name": "stdout",
     "output_type": "stream",
     "text": [
      "(3703, 12)\n",
      "(12288237, 12)\n",
      "(13791731, 12)\n",
      "(17676354, 12)\n",
      "(15349154, 12)\n",
      "(18327938, 12)\n"
     ]
    }
   ],
   "source": [
    "print(locations_WWLLN[locations_WWLLN['year'] == 2015].shape)\n",
    "print(locations_WWLLN[locations_WWLLN['year'] == 2016].shape)\n",
    "print(locations_WWLLN[locations_WWLLN['year'] == 2017].shape)\n",
    "print(locations_WWLLN[locations_WWLLN['year'] == 2018].shape)\n",
    "print(locations_WWLLN[locations_WWLLN['year'] == 2019].shape)\n",
    "print(locations_WWLLN[locations_WWLLN['year'] == 2020].shape)\n"
   ]
  },
  {
   "cell_type": "code",
   "execution_count": 9,
   "metadata": {},
   "outputs": [],
   "source": [
    "track_file_2015 = track_file[track_file['year'] == 2015]\n",
    "#track_file_2015.to_csv('track_file_2015_2015.csv', index=False)  \n"
   ]
  },
  {
   "cell_type": "code",
   "execution_count": 10,
   "metadata": {},
   "outputs": [
    {
     "name": "stdout",
     "output_type": "stream",
     "text": [
      "(495549, 12)\n"
     ]
    }
   ],
   "source": [
    "print(locations_WWLLN[(locations_WWLLN['year'] == 2016) & (locations_WWLLN['month'] == 12)].shape)\n"
   ]
  },
  {
   "cell_type": "code",
   "execution_count": 11,
   "metadata": {},
   "outputs": [],
   "source": [
    "locations_WWLLN_2015 = (locations_WWLLN[locations_WWLLN['year'] == 2015])\n",
    "#locations_WWLLN_2015.to_csv('Combined_WWLLN_Locations_2015.csv', index=False)  \n"
   ]
  },
  {
   "cell_type": "code",
   "execution_count": 12,
   "metadata": {},
   "outputs": [],
   "source": [
    "#track_file.to_csv('Combined_Reduced_Trackfile.csv', index=False)  \n",
    "#locations_WWLLN.to_csv('Combined_Reduced_Trackfile.csv', index=False)  \n"
   ]
  },
  {
   "cell_type": "code",
   "execution_count": 13,
   "metadata": {},
   "outputs": [],
   "source": [
    "#locations_WWLLN.to_csv('Combined_WWLLN_Locations_w_header.txt', index=False)  \n"
   ]
  },
  {
   "cell_type": "code",
   "execution_count": 14,
   "metadata": {},
   "outputs": [
    {
     "data": {
      "text/plain": [
       "year\n",
       "2015      1\n",
       "2016     90\n",
       "2017     84\n",
       "2018    112\n",
       "2019    107\n",
       "2020    106\n",
       "Name: storm_code, dtype: int64"
      ]
     },
     "execution_count": 14,
     "metadata": {},
     "output_type": "execute_result"
    }
   ],
   "source": [
    "locations_WWLLN.groupby('year')['storm_code'].nunique()\n"
   ]
  },
  {
   "cell_type": "code",
   "execution_count": null,
   "metadata": {},
   "outputs": [
    {
     "name": "stdout",
     "output_type": "stream",
     "text": [
      "     year storm_code   count\n",
      "0    2015  SHEM_16_6    3703\n",
      "1    2016   ATL_16_1  477441\n",
      "2    2016  ATL_16_10   60618\n",
      "3    2016  ATL_16_11  443800\n",
      "4    2016  ATL_16_12  124774\n",
      "..    ...        ...     ...\n",
      "495  2020  WPAC_20_5   54968\n",
      "496  2020  WPAC_20_6  119117\n",
      "497  2020  WPAC_20_7   73947\n",
      "498  2020  WPAC_20_8  134434\n",
      "499  2020  WPAC_20_9  151335\n",
      "\n",
      "[500 rows x 3 columns]\n"
     ]
    },
    {
     "data": {
      "text/plain": [
       "<Axes: >"
      ]
     },
     "execution_count": 19,
     "metadata": {},
     "output_type": "execute_result"
    },
    {
     "data": {
      "image/png": "[encoded data removed]",
      "text/plain": [
       "<Figure size 640x480 with 1 Axes>"
      ]
     },
     "metadata": {},
     "output_type": "display_data"
    }
   ],
   "source": [
    "testing = locations_WWLLN.groupby(['year', 'storm_code']).size()\n",
    "testing = testing.reset_index(name='count')\n",
    "print(testing)"
   ]
  },
  {
   "cell_type": "code",
   "execution_count": 15,
   "metadata": {},
   "outputs": [
    {
     "data": {
      "text/plain": [
       "year\n",
       "2015      1\n",
       "2016     88\n",
       "2017     84\n",
       "2018    112\n",
       "2019    107\n",
       "2020    106\n",
       "Name: storm_code, dtype: int64"
      ]
     },
     "execution_count": 15,
     "metadata": {},
     "output_type": "execute_result"
    }
   ],
   "source": [
    "track_file.groupby('year')['storm_code'].nunique()\n"
   ]
  }
 ],
 "metadata": {
  "kernelspec": {
   "display_name": "drg",
   "language": "python",
   "name": "python3"
  },
  "language_info": {
   "codemirror_mode": {
    "name": "ipython",
    "version": 3
   },
   "file_extension": ".py",
   "mimetype": "text/x-python",
   "name": "python",
   "nbconvert_exporter": "python",
   "pygments_lexer": "ipython3",
   "version": "3.10.13"
  }
 },
 "nbformat": 4,
 "nbformat_minor": 2
}
