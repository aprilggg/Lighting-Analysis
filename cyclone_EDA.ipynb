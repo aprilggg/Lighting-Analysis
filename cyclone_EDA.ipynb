{
 "cells": [
  {
   "cell_type": "code",
   "execution_count": 1,
   "metadata": {},
   "outputs": [],
   "source": [
    "import pandas as pd\n"
   ]
  },
  {
   "cell_type": "code",
   "execution_count": null,
   "metadata": {},
   "outputs": [],
   "source": [
    "chunksize = 100000  # Process 100,000 rows at a time\n",
    "chunks = []\n",
    "\n",
    "for chunk in pd.read_csv(\n",
    "    r\"C:\\Users\\user\\Desktop\\25 WI\\Combined_WWLLN_Locations.txt\", \n",
    "    delim_whitespace=True, \n",
    "    chunksize=chunksize\n",
    "):\n",
    "    chunks.append(chunk)\n",
    "\n",
    "locations_WWLLN = pd.concat(chunks, ignore_index=True)\n"
   ]
  },
  {
   "cell_type": "code",
   "execution_count": 2,
   "metadata": {},
   "outputs": [],
   "source": [
    "track_file = pd.read_csv(r\"C:\\Users\\user\\Desktop\\25 WI\\Combined_Reduced_Trackfile.txt\", sep=\"\\t\")"
   ]
  },
  {
   "cell_type": "code",
   "execution_count": null,
   "metadata": {},
   "outputs": [
    {
     "name": "stdout",
     "output_type": "stream",
     "text": [
      "   2016  09  08  05  56  48.5338  14.2391  -30.3679   165.128   382.41  \\\n",
      "0  2016   9   8   5  56  55.2472   7.4860  -25.8905   662.525 -368.500   \n",
      "1  2016   9   8   5  56  55.2473   7.5213  -25.7869   673.892 -364.575   \n",
      "2  2016   9   8   5  57  34.9290   3.2130  -41.6461 -1082.010 -843.636   \n",
      "3  2016   9   8   5  57  34.9306   3.1974  -41.5924 -1076.060 -845.371   \n",
      "4  2016   9   8   5  57  57.3900  15.1458  -29.5455   252.713  483.231   \n",
      "\n",
      "   ATL_16_10  Ian  \n",
      "0  ATL_16_10  Ian  \n",
      "1  ATL_16_10  Ian  \n",
      "2  ATL_16_10  Ian  \n",
      "3  ATL_16_10  Ian  \n",
      "4  ATL_16_10  Ian  \n",
      "   year  month  day  hour   lat   lon  distance_from_storm_center_km_east  \\\n",
      "0  2016      9    8    12  10.9 -33.5                                1010   \n",
      "1  2016      9    8    18  11.0 -34.7                                1010   \n",
      "2  2016      9    9     0  11.0 -36.2                                1010   \n",
      "3  2016      9    9     6  12.0 -39.5                                1010   \n",
      "4  2016      9    9    12  12.2 -40.7                                1010   \n",
      "\n",
      "   distance_from_storm_center_km_north  pressure storm_code storm_name  \n",
      "0                                   20         0  ATL_16_10        Ian  \n",
      "1                                   20         0  ATL_16_10        Ian  \n",
      "2                                   20         0  ATL_16_10        Ian  \n",
      "3                                   20         0  ATL_16_10        Ian  \n",
      "4                                   25         0  ATL_16_10        Ian  \n"
     ]
    }
   ],
   "source": [
    "# print(locations_WWLLN.head(5))\n",
    "# print(track_file.head(5))"
   ]
  },
  {
   "cell_type": "code",
   "execution_count": 13,
   "metadata": {},
   "outputs": [],
   "source": [
    "locations_WWLLN.columns = ['year', 'month', 'day', 'hour', 'min', 'sec','lat','lon','distance_from_storm_center_km_east', 'distance_from_storm_center_km_north', 'storm_code','storm_name']  # Replace with actual names\n",
    "track_file.columns = ['year', 'month', 'day','hour','lat','lon','pressure', 'knots', 'basin?', 'storm_code', 'storm_name']\n"
   ]
  },
  {
   "cell_type": "code",
   "execution_count": 18,
   "metadata": {},
   "outputs": [
    {
     "data": {
      "text/plain": [
       "(16373, 11)"
      ]
     },
     "execution_count": 18,
     "metadata": {},
     "output_type": "execute_result"
    }
   ],
   "source": [
    "track_file.shape\n",
    "locations_WWLLN.shape\n"
   ]
  },
  {
   "cell_type": "code",
   "execution_count": null,
   "metadata": {},
   "outputs": [],
   "source": [
    "track_file.to_csv('Combined_WWLLN_Locations.csv', index=False)  \n",
    "locations_WWLLN.to_csv('Combined_Reduced_Trackfile.csv', index=False)  \n"
   ]
  }
 ],
 "metadata": {
  "kernelspec": {
   "display_name": "drg",
   "language": "python",
   "name": "python3"
  },
  "language_info": {
   "codemirror_mode": {
    "name": "ipython",
    "version": 3
   },
   "file_extension": ".py",
   "mimetype": "text/x-python",
   "name": "python",
   "nbconvert_exporter": "python",
   "pygments_lexer": "ipython3",
   "version": "3.10.13"
  }
 },
 "nbformat": 4,
 "nbformat_minor": 2
}
